{
 "cells": [
  {
   "cell_type": "code",
   "execution_count": 19,
   "id": "3d5feef8-3a26-4d0d-926d-f13b8d0d33f7",
   "metadata": {},
   "outputs": [
    {
     "data": {
      "text/html": [
       "<div>\n",
       "<style scoped>\n",
       "    .dataframe tbody tr th:only-of-type {\n",
       "        vertical-align: middle;\n",
       "    }\n",
       "\n",
       "    .dataframe tbody tr th {\n",
       "        vertical-align: top;\n",
       "    }\n",
       "\n",
       "    .dataframe thead th {\n",
       "        text-align: right;\n",
       "    }\n",
       "</style>\n",
       "<table border=\"1\" class=\"dataframe\">\n",
       "  <thead>\n",
       "    <tr style=\"text-align: right;\">\n",
       "      <th></th>\n",
       "      <th>title</th>\n",
       "      <th>text</th>\n",
       "      <th>subject</th>\n",
       "      <th>date</th>\n",
       "    </tr>\n",
       "  </thead>\n",
       "  <tbody>\n",
       "    <tr>\n",
       "      <th>0</th>\n",
       "      <td>Donald Trump Sends Out Embarrassing New Year’...</td>\n",
       "      <td>Donald Trump just couldn t wish all Americans ...</td>\n",
       "      <td>News</td>\n",
       "      <td>December 31, 2017</td>\n",
       "    </tr>\n",
       "    <tr>\n",
       "      <th>1</th>\n",
       "      <td>Drunk Bragging Trump Staffer Started Russian ...</td>\n",
       "      <td>House Intelligence Committee Chairman Devin Nu...</td>\n",
       "      <td>News</td>\n",
       "      <td>December 31, 2017</td>\n",
       "    </tr>\n",
       "    <tr>\n",
       "      <th>2</th>\n",
       "      <td>Sheriff David Clarke Becomes An Internet Joke...</td>\n",
       "      <td>On Friday, it was revealed that former Milwauk...</td>\n",
       "      <td>News</td>\n",
       "      <td>December 30, 2017</td>\n",
       "    </tr>\n",
       "    <tr>\n",
       "      <th>3</th>\n",
       "      <td>Trump Is So Obsessed He Even Has Obama’s Name...</td>\n",
       "      <td>On Christmas day, Donald Trump announced that ...</td>\n",
       "      <td>News</td>\n",
       "      <td>December 29, 2017</td>\n",
       "    </tr>\n",
       "    <tr>\n",
       "      <th>4</th>\n",
       "      <td>Pope Francis Just Called Out Donald Trump Dur...</td>\n",
       "      <td>Pope Francis used his annual Christmas Day mes...</td>\n",
       "      <td>News</td>\n",
       "      <td>December 25, 2017</td>\n",
       "    </tr>\n",
       "    <tr>\n",
       "      <th>...</th>\n",
       "      <td>...</td>\n",
       "      <td>...</td>\n",
       "      <td>...</td>\n",
       "      <td>...</td>\n",
       "    </tr>\n",
       "    <tr>\n",
       "      <th>23476</th>\n",
       "      <td>McPain: John McCain Furious That Iran Treated ...</td>\n",
       "      <td>21st Century Wire says As 21WIRE reported earl...</td>\n",
       "      <td>Middle-east</td>\n",
       "      <td>January 16, 2016</td>\n",
       "    </tr>\n",
       "    <tr>\n",
       "      <th>23477</th>\n",
       "      <td>JUSTICE? Yahoo Settles E-mail Privacy Class-ac...</td>\n",
       "      <td>21st Century Wire says It s a familiar theme. ...</td>\n",
       "      <td>Middle-east</td>\n",
       "      <td>January 16, 2016</td>\n",
       "    </tr>\n",
       "    <tr>\n",
       "      <th>23478</th>\n",
       "      <td>Sunnistan: US and Allied ‘Safe Zone’ Plan to T...</td>\n",
       "      <td>Patrick Henningsen  21st Century WireRemember ...</td>\n",
       "      <td>Middle-east</td>\n",
       "      <td>January 15, 2016</td>\n",
       "    </tr>\n",
       "    <tr>\n",
       "      <th>23479</th>\n",
       "      <td>How to Blow $700 Million: Al Jazeera America F...</td>\n",
       "      <td>21st Century Wire says Al Jazeera America will...</td>\n",
       "      <td>Middle-east</td>\n",
       "      <td>January 14, 2016</td>\n",
       "    </tr>\n",
       "    <tr>\n",
       "      <th>23480</th>\n",
       "      <td>10 U.S. Navy Sailors Held by Iranian Military ...</td>\n",
       "      <td>21st Century Wire says As 21WIRE predicted in ...</td>\n",
       "      <td>Middle-east</td>\n",
       "      <td>January 12, 2016</td>\n",
       "    </tr>\n",
       "  </tbody>\n",
       "</table>\n",
       "<p>23481 rows × 4 columns</p>\n",
       "</div>"
      ],
      "text/plain": [
       "                                                   title  \\\n",
       "0       Donald Trump Sends Out Embarrassing New Year’...   \n",
       "1       Drunk Bragging Trump Staffer Started Russian ...   \n",
       "2       Sheriff David Clarke Becomes An Internet Joke...   \n",
       "3       Trump Is So Obsessed He Even Has Obama’s Name...   \n",
       "4       Pope Francis Just Called Out Donald Trump Dur...   \n",
       "...                                                  ...   \n",
       "23476  McPain: John McCain Furious That Iran Treated ...   \n",
       "23477  JUSTICE? Yahoo Settles E-mail Privacy Class-ac...   \n",
       "23478  Sunnistan: US and Allied ‘Safe Zone’ Plan to T...   \n",
       "23479  How to Blow $700 Million: Al Jazeera America F...   \n",
       "23480  10 U.S. Navy Sailors Held by Iranian Military ...   \n",
       "\n",
       "                                                    text      subject  \\\n",
       "0      Donald Trump just couldn t wish all Americans ...         News   \n",
       "1      House Intelligence Committee Chairman Devin Nu...         News   \n",
       "2      On Friday, it was revealed that former Milwauk...         News   \n",
       "3      On Christmas day, Donald Trump announced that ...         News   \n",
       "4      Pope Francis used his annual Christmas Day mes...         News   \n",
       "...                                                  ...          ...   \n",
       "23476  21st Century Wire says As 21WIRE reported earl...  Middle-east   \n",
       "23477  21st Century Wire says It s a familiar theme. ...  Middle-east   \n",
       "23478  Patrick Henningsen  21st Century WireRemember ...  Middle-east   \n",
       "23479  21st Century Wire says Al Jazeera America will...  Middle-east   \n",
       "23480  21st Century Wire says As 21WIRE predicted in ...  Middle-east   \n",
       "\n",
       "                    date  \n",
       "0      December 31, 2017  \n",
       "1      December 31, 2017  \n",
       "2      December 30, 2017  \n",
       "3      December 29, 2017  \n",
       "4      December 25, 2017  \n",
       "...                  ...  \n",
       "23476   January 16, 2016  \n",
       "23477   January 16, 2016  \n",
       "23478   January 15, 2016  \n",
       "23479   January 14, 2016  \n",
       "23480   January 12, 2016  \n",
       "\n",
       "[23481 rows x 4 columns]"
      ]
     },
     "execution_count": 19,
     "metadata": {},
     "output_type": "execute_result"
    }
   ],
   "source": [
    "import pandas as pd\n",
    "import numpy as np\n",
    "import re\n",
    "from collections import Counter\n",
    "from sklearn.feature_extraction.text import TfidfVectorizer\n",
    "from sklearn.ensemble import IsolationForest\n",
    "import seaborn as sns\n",
    "import matplotlib.pyplot as plt\n",
    "\n",
    "df_fake = pd.read_csv(\"fake.csv\")\n",
    "df_true = pd.read_csv(\"true.csv\")\n",
    "\n",
    "df_fake"
   ]
  },
  {
   "cell_type": "code",
   "execution_count": 29,
   "id": "84473c16-737f-4f0a-bb4f-a478767d63a4",
   "metadata": {},
   "outputs": [
    {
     "name": "stdout",
     "output_type": "stream",
     "text": [
      "\n",
      " ==== Começando a analisar quais paravras mais se repetem nos titulos de dataframes de fake news === \n",
      "\n",
      " A contagem com palavras pequenas nos titulos é:  [('to', 9510), ('trump', 9338), ('video', 8477), ('s', 7712), ('the', 6306), ('of', 5168), ('for', 4833), ('in', 4718), ('a', 3786), ('on', 3688)]\n",
      "\n",
      " A segunda contagem com palavras maiores nos titulos é:  [('trump', 9338), ('video', 8477), ('obama', 2582), ('hillary', 2319), ('watch', 1937), ('about', 1699), ('after', 1556), ('president', 1146), ('clinton', 1138), ('black', 896)]\n",
      "\n",
      " As  palavras que mais aparecem tem ligação politica, portanto, é o maior alvo de fake news\n",
      "\n",
      " Palavras apelativas como 'watch' e 'video'  também tem grande frequência nos titulos\n"
     ]
    }
   ],
   "source": [
    "print(\"\\n ==== Começando a analisar quais paravras mais se repetem nos titulos de dataframes de fake news === \")\n",
    "# juntando o texto\n",
    "\n",
    "titulo_junto = ' '.join(df_fake['title']).lower()\n",
    "\n",
    "# removendo pontuações e separando palavras\n",
    "palavras = re.findall(r'\\b\\w+\\b', titulo_junto)\n",
    "\n",
    "#contando palavras\n",
    "contagem_palavras = Counter(palavras)\n",
    "\n",
    "print(\"\\n A contagem com palavras pequenas nos titulos é: \", contagem_palavras.most_common(10))\n",
    "# temos muitas palavras que não são importantes para a analise\n",
    "# criando outra variavel que mostra palavras com mais de 4 letras\n",
    "# motivo se da pois \"Trump\" tem 5 letras e é uma palavra importante para a analise\n",
    "\n",
    "palavras_maiores = [palavras for palavras in palavras if len(palavras) > 4]\n",
    "\n",
    "palavras_contagem_2 = Counter(palavras_maiores)\n",
    "\n",
    "print(\"\\n A segunda contagem com palavras maiores nos titulos é: \", palavras_contagem_2.most_common(10))\n",
    "print(\"\\n As  palavras que mais aparecem tem ligação politica, portanto, é o maior alvo de fake news\")\n",
    "print(\"\\n Palavras apelativas como 'watch' e 'video'  também tem grande frequência nos titulos\")"
   ]
  },
  {
   "cell_type": "code",
   "execution_count": 34,
   "id": "587a610f-d41f-4429-9eac-df319c966ea7",
   "metadata": {},
   "outputs": [
    {
     "name": "stdout",
     "output_type": "stream",
     "text": [
      "\n",
      " Analisando a repetição de palavras nos textos das fake news\n",
      "\n",
      " A contagem de palavras pequenas nos textos de noticias é [('the', 543551), ('to', 290819), ('of', 236640), ('and', 226971), ('a', 214783), ('in', 171163), ('that', 151662), ('s', 141155), ('is', 111234), ('for', 93480)]\n",
      "\n",
      " A segunda contagem com palavras maiores nos textos é:  [('trump', 79300), ('about', 33025), ('their', 30290), ('president', 27715), ('people', 26570), ('would', 23562), ('there', 19923), ('clinton', 19173), ('obama', 18797), ('after', 17802)]\n",
      "Assim como nos titulos, temos repetição de nomes politicos, porém, podemos notar a falta de palavras tendenciosas que tem nos titulos\n"
     ]
    }
   ],
   "source": [
    "print(\"\\n Analisando a repetição de palavras nos textos das fake news\")\n",
    "texto_junto = ' '.join(df_fake['text']).lower()\n",
    "\n",
    "palavras_2 = re.findall(r'\\b\\w+\\b', texto_junto)\n",
    "\n",
    "contagem_palavras_2 = Counter(palavras_2)\n",
    "\n",
    "print(\"\\n A contagem de palavras pequenas nos textos de noticias é\", contagem_palavras_2.most_common(10))\n",
    "\n",
    "palavras_maiores = [palavras_2 for palavras_2 in palavras_2 if len(palavras_2) > 4]\n",
    "\n",
    "palavras_contagem_2 = Counter(palavras_maiores)\n",
    "\n",
    "print(\"\\n A segunda contagem com palavras maiores nos textos é: \", palavras_contagem_2.most_common(10))\n",
    "print(\"Assim como nos titulos, temos repetição de nomes politicos, porém, podemos notar a falta de palavras tendenciosas que tem nos titulos\")"
   ]
  },
  {
   "cell_type": "code",
   "execution_count": 44,
   "id": "b10a23c9-00ba-4649-8c09-cb32f1ea627a",
   "metadata": {},
   "outputs": [
    {
     "name": "stdout",
     "output_type": "stream",
     "text": [
      "\n",
      " Quantidade de fake news em cada área:\n",
      "subject\n",
      "News               9050\n",
      "politics           6841\n",
      "left-news          4459\n",
      "Government News    1570\n",
      "US_News             783\n",
      "Middle-east         778\n",
      "Name: count, dtype: int64\n",
      "Noticias segue sendo a maior vitima de fake news, um dado perigoso que pode trazer péssimas consequências\n",
      "Politica sendo o segundo assunto com maior quantidade de fake news, outro dado perigoso que pode redefinir campanhas eleitorais inteiras\n"
     ]
    }
   ],
   "source": [
    "# analisando os tipos de fake news mais aparentes\n",
    "# media de fake news\n",
    "fake_news_quantidade = df_fake['subject'].value_counts()\n",
    "print(\"\\n Quantidade de fake news em cada área:\")\n",
    "print(fake_news_quantidade)\n",
    "print(\"Noticias segue sendo a maior vitima de fake news, um dado perigoso que pode trazer péssimas consequências\")\n",
    "print(\"Politica sendo o segundo assunto com maior quantidade de fake news, outro dado perigoso que pode redefinir campanhas eleitorais inteiras\")\n"
   ]
  },
  {
   "cell_type": "code",
   "execution_count": 51,
   "id": "2d8f3d0b-66da-4a3d-af12-da63628b6ab5",
   "metadata": {},
   "outputs": [
    {
     "name": "stdout",
     "output_type": "stream",
     "text": [
      "Grande volume de noticias falsas entre maio e junho em 2016 e no mesmo período em 2017\n",
      "Após pesquisas, em 2016 no período tivemos Eleição Presidencial de Trump vs. Hillary Clinton(nomes presentes nos titulos com mais fake news)\n",
      "Em 2017 tivemos a noticia que o FBI abriu uma investigação oficial sobre a influência russa nas eleições\n",
      "Ao mesmo tempo, veículos pró-Trump criavam 'fake news' para desacreditar investigações contra ele.\n"
     ]
    },
    {
     "data": {
      "image/png": "[encoded data removed]",
      "text/plain": [
       "<Figure size 640x480 with 1 Axes>"
      ]
     },
     "metadata": {},
     "output_type": "display_data"
    }
   ],
   "source": [
    "# analisando a variação de artigos com o tempo\n",
    "df_fake['date'] = pd.to_datetime(df_fake['date'], errors='coerce')\n",
    "df_fake['month_year'] = df_fake['date'].dt.to_period(\"M\")\n",
    "df_fake['month_year'].value_counts().sort_index().plot(kind='line')\n",
    "print(\"Grande volume de noticias falsas entre maio e junho em 2016 e no mesmo período em 2017\")\n",
    "print(\"Após pesquisas, em 2016 no período tivemos Eleição Presidencial de Trump vs. Hillary Clinton(nomes presentes nos titulos com mais fake news)\")\n",
    "print(\"Em 2017 tivemos a noticia que o FBI abriu uma investigação oficial sobre a influência russa nas eleições\")\n",
    "print(\"Ao mesmo tempo, veículos pró-Trump criavam 'fake news' para desacreditar investigações contra ele.\")"
   ]
  },
  {
   "cell_type": "code",
   "execution_count": 52,
   "id": "a035875a-e7da-44cc-9238-9f2adf84e3f4",
   "metadata": {},
   "outputs": [
    {
     "name": "stdout",
     "output_type": "stream",
     "text": [
      "       title_length   text_length\n",
      "count  23481.000000  23481.000000\n",
      "mean      94.198032   2547.396235\n",
      "std       27.184433   2532.884399\n",
      "min        8.000000      1.000000\n",
      "25%       77.000000   1433.000000\n",
      "50%       90.000000   2166.000000\n",
      "75%      105.000000   3032.000000\n",
      "max      286.000000  51794.000000\n"
     ]
    }
   ],
   "source": [
    "# identificando um padrão nos titulos de fake news\n",
    "# verificando o tamanho dos titulos falsos\n",
    "\n",
    "df_fake['title_length'] = df_fake['title'].apply(len)\n",
    "df_fake['text_length'] = df_fake['text'].apply(len)\n",
    "print(df_fake[['title_length', 'text_length']].describe())\n",
    "\n"
   ]
  },
  {
   "cell_type": "code",
   "execution_count": 55,
   "id": "67cbe625-2f9b-46d8-a4ac-413d9157bb5b",
   "metadata": {},
   "outputs": [
    {
     "name": "stdout",
     "output_type": "stream",
     "text": [
      "       title_length   text_length\n",
      "count  21417.000000  21417.000000\n",
      "mean      64.667881   2383.278517\n",
      "std        9.168999   1684.835730\n",
      "min       26.000000      1.000000\n",
      "25%       59.000000    914.000000\n",
      "50%       64.000000   2222.000000\n",
      "75%       70.000000   3237.000000\n",
      "max      133.000000  29781.000000\n",
      "Uma noticia boa e verdadeira, noticias verdadeiras tem titulos consideravelmente menores\n"
     ]
    }
   ],
   "source": [
    "# verificando tamanho de titulos com noticias verdadeiras\n",
    "\n",
    "df_true['title_length'] = df_true['title'].apply(len)\n",
    "df_true['text_length'] = df_true['text'].apply(len)\n",
    "print(df_true[['title_length', 'text_length']].describe())\n",
    "\n",
    "print(\"Uma noticia boa e verdadeira, noticias verdadeiras tem titulos consideravelmente menores\")"
   ]
  },
  {
   "cell_type": "code",
   "execution_count": 24,
   "id": "c91e1409-f659-4b88-983d-992355e2cc55",
   "metadata": {},
   "outputs": [
    {
     "data": {
      "image/png": "[encoded data removed]",
      "text/plain": [
       "<Figure size 640x480 with 1 Axes>"
      ]
     },
     "metadata": {},
     "output_type": "display_data"
    },
    {
     "name": "stdout",
     "output_type": "stream",
     "text": [
      "\n",
      " Manchetes identificadas como outliers:\n",
      "                                                   title\n",
      "4       Pope Francis Just Called Out Donald Trump Dur...\n",
      "5       Racist Alabama Cops Brutalize Black Boy While...\n",
      "18      SNL Hilariously Mocks Accused Child Molester ...\n",
      "21      KY GOP State Rep. Commits Suicide Over Allega...\n",
      "26      Accused Child Molesting Senate Candidate Roy ...\n",
      "...                                                  ...\n",
      "23425  UN Physically Removes Independent Media From N...\n",
      "23465  ‘There’ll be boots on the ground’: US making n...\n",
      "23467  Oregon Governor Says Feds ‘Must Act’ Against P...\n",
      "23472                      #Hashtag Hell & The Fake Left\n",
      "23474          The New American Century: An Era of Fraud\n",
      "\n",
      "[4696 rows x 1 columns]\n",
      "Após analises podemos notar que poucas matérias tem textos com outliers nos seus titulos\n"
     ]
    }
   ],
   "source": [
    "# iniciando a detecção de outliers\n",
    "# Pré-processamento dos textos\n",
    "# Convertendo as manchetes para minúsculas e removendo caracteres especiais\n",
    "df_fake['clean_headline'] = df_fake['title'].str.lower().str.replace('[^a-z\\\\s]', '', regex=True)\n",
    "\n",
    "# Vetorização dos textos\n",
    "vectorizer = TfidfVectorizer(stop_words='english')\n",
    "X = vectorizer.fit_transform(df_fake['clean_headline'])\n",
    "\n",
    "# Detectando outliers\n",
    "iso_forest = IsolationForest(contamination=0.2, random_state=42)\n",
    "df_fake['outlier'] = iso_forest.fit_predict(X)\n",
    "\n",
    "# A coluna 'outlier' terá valores 1 (não outlier) e -1 (outlier)\n",
    "df_fake['outlier'] = df_fake['outlier'].map({1: 'Normal', -1: 'Outlier'})\n",
    "\n",
    "# resultados em graficos\n",
    "sns.countplot(data=df_fake, x='outlier')\n",
    "plt.title('Detecção de Outliers nas Manchetes')\n",
    "plt.show()\n",
    "\n",
    "# Exibindo as manchetes que foram detectadas como outliers\n",
    "outliers = df_fake[df_fake['outlier'] == 'Outlier']\n",
    "print(\"\\n Manchetes identificadas como outliers:\")\n",
    "print(outliers[['title']])\n",
    "print(\"Após analises podemos notar que poucas matérias tem textos com outliers nos seus titulos\")"
   ]
  },
  {
   "cell_type": "code",
   "execution_count": null,
   "id": "c37314ac-4576-4ddc-8cc2-cfd710e2eab7",
   "metadata": {},
   "outputs": [],
   "source": []
  }
 ],
 "metadata": {
  "kernelspec": {
   "display_name": "Python 3 (ipykernel)",
   "language": "python",
   "name": "python3"
  },
  "language_info": {
   "codemirror_mode": {
    "name": "ipython",
    "version": 3
   },
   "file_extension": ".py",
   "mimetype": "text/x-python",
   "name": "python",
   "nbconvert_exporter": "python",
   "pygments_lexer": "ipython3",
   "version": "3.12.7"
  }
 },
 "nbformat": 4,
 "nbformat_minor": 5
}
